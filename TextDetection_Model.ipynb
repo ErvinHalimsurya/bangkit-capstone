{
  "cells": [
    {
      "cell_type": "code",
      "execution_count": 1,
      "metadata": {
        "id": "dxmOTI4KTRcD"
      },
      "outputs": [],
      "source": [
        "from imutils.object_detection import non_max_suppression\n",
        "from google.colab.patches import cv2_imshow\n",
        "from imutils import paths\n",
        "import tensorflow as tf\n",
        "import numpy as np\n",
        "import time\n",
        "import cv2\n",
        "import os"
      ]
    },
    {
      "cell_type": "code",
      "execution_count": 2,
      "metadata": {
        "colab": {
          "base_uri": "https://localhost:8080/"
        },
        "id": "IZw6yFTVTVdB",
        "outputId": "f2a3790a-06dd-42fa-a7de-1ccce56adc7b"
      },
      "outputs": [
        {
          "output_type": "stream",
          "name": "stdout",
          "text": [
            "Cloning into 'opencv-text-detection'...\n",
            "remote: Enumerating objects: 11, done.\u001b[K\n",
            "remote: Total 11 (delta 0), reused 0 (delta 0), pack-reused 11\u001b[K\n",
            "Unpacking objects: 100% (11/11), done.\n"
          ]
        }
      ],
      "source": [
        "!git clone https://github.com/dilhelh/opencv-text-detection.git"
      ]
    },
    {
      "cell_type": "code",
      "execution_count": 3,
      "metadata": {
        "colab": {
          "base_uri": "https://localhost:8080/"
        },
        "id": "HkVkelnOTanI",
        "outputId": "0b0a9ddc-6b24-4983-bed0-672c518ed139"
      },
      "outputs": [
        {
          "output_type": "stream",
          "name": "stdout",
          "text": [
            "[INFO] loading EAST text detector...\n",
            "[INFO] text detection took 0.571660 seconds\n",
            ": cannot connect to X server \n"
          ]
        }
      ],
      "source": [
        "!python /content/opencv-text-detection/text_detection.py --image /content/opencv-text-detection/images/lebron_james.jpg \\\n",
        "\t--east /content/opencv-text-detection/frozen_east_text_detection.pb"
      ]
    },
    {
      "cell_type": "code",
      "execution_count": 4,
      "metadata": {
        "id": "hX5EP60DTlhE"
      },
      "outputs": [],
      "source": [
        "!wget -q https://github.com/sayakpaul/Adventures-in-TensorFlow-Lite/releases/download/v0.11.0/coco_text_100.tar.gz\n",
        "!tar xf coco_text_100.tar.gz"
      ]
    },
    {
      "cell_type": "code",
      "execution_count": 5,
      "metadata": {
        "id": "hkWTWpnKUKx4"
      },
      "outputs": [],
      "source": [
        "image_list = list(paths.list_images('/content/coco_text_100'))\n",
        "image_size = 320"
      ]
    },
    {
      "cell_type": "code",
      "execution_count": 6,
      "metadata": {
        "id": "7kaHNI0BUOHA"
      },
      "outputs": [],
      "source": [
        "def representative_dataset():\n",
        "    for image_path in image_list:\n",
        "        image = cv2.imread(image_path)\n",
        "        image = cv2.resize(image, (image_size, image_size))\n",
        "        image = image.astype(\"float32\")\n",
        "        mean = np.array([123.68, 116.779, 103.939][::-1], dtype=\"float32\")\n",
        "        image -= mean\n",
        "        image = np.expand_dims(image, axis=0)\n",
        "        yield [image]"
      ]
    },
    {
      "cell_type": "code",
      "execution_count": 13,
      "metadata": {
        "colab": {
          "base_uri": "https://localhost:8080/"
        },
        "id": "xqI_W6pGUQxT",
        "outputId": "b8f151de-c69a-4acc-cd60-1a5c09cc2d56"
      },
      "outputs": [
        {
          "output_type": "stream",
          "name": "stderr",
          "text": [
            "WARNING:absl:Buffer deduplication procedure will be skipped when flatbuffer library is not properly loaded\n"
          ]
        },
        {
          "output_type": "execute_result",
          "data": {
            "text/plain": [
              "24823088"
            ]
          },
          "metadata": {},
          "execution_count": 13
        }
      ],
      "source": [
        "quantization = \"int8\" #@param [\"dr\", \"int8\", \"float16\"]\n",
        "model_converter = tf.compat.v1.lite.TFLiteConverter.from_frozen_graph(\n",
        "    graph_def_file='/content/opencv-text-detection/frozen_east_text_detection.pb', \n",
        "    input_arrays=['input_images'],\n",
        "    output_arrays=['feature_fusion/Conv_7/Sigmoid', 'feature_fusion/concat_3'],\n",
        "    input_shapes={'input_images': [1, 320, 320, 3]}\n",
        ")\n",
        "\n",
        "model_converter.optimizations = [tf.lite.Optimize.DEFAULT]\n",
        "\n",
        "if quantization==\"float16\":\n",
        "    model_converter.target_spec.supported_types = [tf.float16]\n",
        "elif quantization==\"int8\":\n",
        "    model_converter.representative_dataset = representative_dataset\n",
        "    model_converter.target_spec.supported_ops = [tf.lite.OpsSet.TFLITE_BUILTINS_INT8]\n",
        "    model_converter.inference_input_type = tf.uint8\n",
        "    model_converter.inference_output_type = tf.uint8\n",
        "\n",
        "model_tflite = model_converter.convert()\n",
        "open('TextDetection_Model_{}.tflite'.format(quantization), 'wb').write(model_tflite)"
      ]
    },
    {
      "cell_type": "code",
      "execution_count": 14,
      "metadata": {
        "id": "C8q6sx-_VVsR"
      },
      "outputs": [],
      "source": [
        "layerNames = [\n",
        "    \"feature_fusion/Conv_7/Sigmoid\",\n",
        "    \"feature_fusion/concat_3\"]"
      ]
    },
    {
      "cell_type": "code",
      "execution_count": 15,
      "metadata": {
        "colab": {
          "base_uri": "https://localhost:8080/"
        },
        "id": "o3zH-9SdUTBI",
        "outputId": "ec548e24-ea55-4998-efc9-74dc7ef6ea4c"
      },
      "outputs": [
        {
          "output_type": "stream",
          "name": "stdout",
          "text": [
            "-rw-r--r-- 1 root root 24M Jun 13 04:12 TextDetection_Model_dr.tflite\n",
            "-rw-r--r-- 1 root root 46M Jun 13 04:12 TextDetection_Model_float16.tflite\n",
            "-rw-r--r-- 1 root root 24M Jun 13 04:14 TextDetection_Model_int8.tflite\n",
            "-rw-r--r-- 1 root root 93M Jun 13 04:08 /content/opencv-text-detection/frozen_east_text_detection.pb\n"
          ]
        }
      ],
      "source": [
        "!ls -lh *.tflite\n",
        "!ls -lh /content/opencv-text-detection/frozen_east_text_detection.pb"
      ]
    }
  ],
  "metadata": {
    "accelerator": "GPU",
    "colab": {
      "name": "OCR text detection",
      "provenance": []
    },
    "kernelspec": {
      "display_name": "Python 3",
      "name": "python3"
    },
    "language_info": {
      "name": "python"
    }
  },
  "nbformat": 4,
  "nbformat_minor": 0
}